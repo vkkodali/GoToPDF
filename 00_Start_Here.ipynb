{
  "nbformat": 4,
  "nbformat_minor": 0,
  "metadata": {
    "colab": {
      "name": "00-Start_Here.ipynb",
      "provenance": [],
      "authorship_tag": "ABX9TyM1Xz3m5MIqy/3iA3IoGcmJ",
      "include_colab_link": true
    },
    "kernelspec": {
      "name": "python3",
      "display_name": "Python 3"
    }
  },
  "cells": [
    {
      "cell_type": "markdown",
      "metadata": {
        "id": "view-in-github",
        "colab_type": "text"
      },
      "source": [
        "<a href=\"https://colab.research.google.com/github/vkkodali/GoToPDF/blob/master/00_Start_Here.ipynb\" target=\"_parent\"><img src=\"https://colab.research.google.com/assets/colab-badge.svg\" alt=\"Open In Colab\"/></a>"
      ]
    },
    {
      "cell_type": "markdown",
      "metadata": {
        "id": "TS68tZC4NH2V",
        "colab_type": "text"
      },
      "source": [
        "# NCBI Datasets\n",
        "[NCBI Datasets](https://www.ncbi.nlm.nih.gov/datasets) is a new tool from NCBI to facilitate search and download of data from various NCBI repositories. This repository contains Jupyter Notebooks to introduce the `datasets` command line tool and the datasets API with example code that can be repurposed for user-specific requirements. \n",
        "\n",
        "> _**NOTE:**_ NCBI Datasets is currently an experiment in NCBI Labs. The content and features described here can change without notice.\n"
      ]
    },
    {
      "cell_type": "markdown",
      "metadata": {
        "id": "onKzDW4-NgTU",
        "colab_type": "text"
      },
      "source": [
        "## Install `datasets` application\n",
        "[`Datasets`](https://www.ncbi.nlm.nih.gov/datasets/docs/command-line-access) is a command-line application that allows users to query NCBI Datasets to download data and descriptions. Follow [this link](https://www.ncbi.nlm.nih.gov/datasets/docs/command-line-access/) for a detailed documentation of the tool and instructions to download and install the tool on Windows and Mac computers. \n",
        "\n",
        "This document assumes that the application is being run on a Unix/Linux computer. The following set of commands will use `curl` to download the `datasets` application followed by making the file executable and ready for use. The downloaded application file will be saved in the user's home directory. Experienced users can move this to a location that is included in your PATH to make the command available from everywhere without having to provide explicit path every time. "
      ]
    },
    {
      "cell_type": "code",
      "metadata": {
        "id": "7ePaqIqcNFri",
        "colab_type": "code",
        "outputId": "9251358e-01a4-4d9d-ded5-92f8170c3b09",
        "colab": {
          "base_uri": "https://localhost:8080/",
          "height": 71
        }
      },
      "source": [
        "%%bash\n",
        "## download the datasets application\n",
        "curl -o ~/datasets 'https://ftp.ncbi.nlm.nih.gov/pub/datasets/command-line/LATEST/linux-amd64/datasets'\n",
        "\n",
        "## make the file executable\n",
        "chmod +x ~/datasets"
      ],
      "execution_count": 0,
      "outputs": [
        {
          "output_type": "stream",
          "text": [
            "  % Total    % Received % Xferd  Average Speed   Time    Time     Time  Current\n",
            "                                 Dload  Upload   Total   Spent    Left  Speed\n",
            "\r  0     0    0     0    0     0      0      0 --:--:-- --:--:-- --:--:--     0\r 51 15.3M   51 8160k    0     0  11.3M      0  0:00:01 --:--:--  0:00:01 11.3M\r100 15.3M  100 15.3M    0     0  17.1M      0 --:--:-- --:--:-- --:--:-- 17.1M\n"
          ],
          "name": "stderr"
        }
      ]
    },
    {
      "cell_type": "markdown",
      "metadata": {
        "id": "cC4dwicszArT",
        "colab_type": "text"
      },
      "source": [
        "## Test installation\n",
        "To make sure that the application has been downloaded and can be executed properly, we will simply run the application with `-h` parameter. This will display a description of the available subcommands and parameters that can be used with each of them. "
      ]
    },
    {
      "cell_type": "code",
      "metadata": {
        "id": "BpKF-hdx1Vn9",
        "colab_type": "code",
        "outputId": "2539b1e6-0426-4a4f-8f1c-bcde5b773719",
        "colab": {
          "base_uri": "https://localhost:8080/",
          "height": 485
        }
      },
      "source": [
        "! ~/datasets  -h"
      ],
      "execution_count": 0,
      "outputs": [
        {
          "output_type": "stream",
          "text": [
            "\n",
            "datasets is a command line application to query and download biological sequence data\n",
            "across all domains of life from NCBI databases.\n",
            "\n",
            "To interactively browse available datasets,\n",
            "visit https://www.ncbi.nlm.nih.gov/datasets/genomes/.\n",
            "\n",
            "To write your own application that uses the same web-services,\n",
            "visit https://api.ncbi.nlm.nih.gov/datasets/v1alpha/.\n",
            "\n",
            "For detailed documentation, visit https://www.ncbi.nlm.nih.gov/datasets/docs/command-line-access/\n",
            "\n",
            "Usage:\n",
            "  datasets [command]\n",
            "\n",
            "Available Commands:\n",
            "  assembly_descriptors Retrieve descriptions of available genome assembly datasets\n",
            "  download             Download your data in a zip file (default filename is ncbi_dataset.zip)\n",
            "  help                 Help about any command\n",
            "\n",
            "Flags:\n",
            "      --config string   config file (default is $HOME/.Download.yaml)\n",
            "  -h, --help            help for datasets\n",
            "      --proxy string    API endpoint proxy\n",
            "\n",
            "Use \"datasets [command] --help\" for more information about a command.\n"
          ],
          "name": "stdout"
        }
      ]
    },
    {
      "cell_type": "markdown",
      "metadata": {
        "id": "eIgmY5cF1Rth",
        "colab_type": "text"
      },
      "source": [
        "As described in the help text above, the `datasets` command uses subcommands to accomplish various tasks that will be dealt in more detail in subsequent notebooks. The common theme, however, to see a description of the command and available parameters is to use execute the subcommands with `-h` option as shown below for `assembly_descriptors`. \n",
        "\n"
      ]
    },
    {
      "cell_type": "code",
      "metadata": {
        "id": "8-o5MeiB2RE5",
        "colab_type": "code",
        "outputId": "1e6597e3-644f-4d86-afac-f86bc10decf7",
        "colab": {
          "base_uri": "https://localhost:8080/",
          "height": 503
        }
      },
      "source": [
        "! ~/datasets assembly_descriptors -h"
      ],
      "execution_count": 0,
      "outputs": [
        {
          "output_type": "stream",
          "text": [
            "\n",
            "Retrieve descriptions of available genome assemblies.  Search by assembly accession,\n",
            "NCBI Taxonomy ID, scientific or common name at any tax rank across all domains of life.\n",
            "For detailed documentation, visit https://www.ncbi.nlm.nih.gov/datasets/docs/command-line-access/\n",
            "\n",
            "Usage:\n",
            "  datasets assembly_descriptors [command]\n",
            "\n",
            "Available Commands:\n",
            "  assembly_accession Assembly descriptions by assembly accession\n",
            "  tax_id             Assembly descriptions by taxonomy ID\n",
            "  tax_name           Assembly descriptions by taxonomic name (scientific or common name at any tax rank)\n",
            "\n",
            "Flags:\n",
            "  -r, --RefSeq_only       if true, only return RefSeq (GCF_) assemblies\n",
            "  -h, --help              help for assembly_descriptors\n",
            "  -l, --limit string      The maximum number of assembly descriptions to return.\n",
            "                          See total_count field for total number of assemblies for the search criteria.\n",
            "                          ALL return all datasets.\n",
            "                          NONE will return only the total_count. (default \"10\")\n",
            "  -t, --tax-exact-match   use this flag with species-level taxids. when this flag is specified, sub-species are excluded\n",
            "\n",
            "Global Flags:\n",
            "      --config string   config file (default is $HOME/.Download.yaml)\n",
            "      --proxy string    API endpoint proxy\n",
            "\n",
            "Use \"datasets assembly_descriptors [command] --help\" for more information about a command.\n"
          ],
          "name": "stdout"
        }
      ]
    },
    {
      "cell_type": "markdown",
      "metadata": {
        "id": "F-FbG6W72ZfP",
        "colab_type": "text"
      },
      "source": [
        "## Next\n",
        "Now that you have successfully installed the `datasets` application, follow the links to one or more Jupyter notebooks to explore how to use NCBI Datasets to query and download data. \n",
        "\n",
        "\n",
        "\n",
        "1. [Exercise 1](./01-Exercise_01.ipynb) - Download genome sequence in FASTA format and aggregate data \n",
        "\n"
      ]
    }
  ]
}